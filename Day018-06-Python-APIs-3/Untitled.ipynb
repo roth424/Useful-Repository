{
 "cells": [
  {
   "cell_type": "code",
   "execution_count": 21,
   "metadata": {},
   "outputs": [],
   "source": [
    "import requests\n",
    "from config import gkey\n",
    "from pprint import pprint\n",
    "\n",
    "url = \"https://maps.googleapis.com/maps/api/geocode/json?address=Seattle,WA&key=\" + gkey\n",
    "\n",
    "url = \"https://maps.googleapis.com/maps/api/place/findplacefromtext/json?\"\n",
    "parameters = { \"key\": gkey, \"input\": \"dog salon\", \"inputtype\":\"textquery\",\n",
    "             \"fields\":\"name\"}"
   ]
  },
  {
   "cell_type": "code",
   "execution_count": 22,
   "metadata": {},
   "outputs": [],
   "source": [
    "response = requests.get(url, parameters)"
   ]
  },
  {
   "cell_type": "code",
   "execution_count": 23,
   "metadata": {},
   "outputs": [
    {
     "name": "stdout",
     "output_type": "stream",
     "text": [
      "{'candidates': [{'name': 'The Dog Salon'}], 'status': 'OK'}\n"
     ]
    }
   ],
   "source": [
    "print(response.json())"
   ]
  },
  {
   "cell_type": "code",
   "execution_count": null,
   "metadata": {},
   "outputs": [],
   "source": []
  }
 ],
 "metadata": {
  "kernelspec": {
   "display_name": "Python 3",
   "language": "python",
   "name": "python3"
  },
  "language_info": {
   "codemirror_mode": {
    "name": "ipython",
    "version": 3
   },
   "file_extension": ".py",
   "mimetype": "text/x-python",
   "name": "python",
   "nbconvert_exporter": "python",
   "pygments_lexer": "ipython3",
   "version": "3.7.3"
  }
 },
 "nbformat": 4,
 "nbformat_minor": 2
}
