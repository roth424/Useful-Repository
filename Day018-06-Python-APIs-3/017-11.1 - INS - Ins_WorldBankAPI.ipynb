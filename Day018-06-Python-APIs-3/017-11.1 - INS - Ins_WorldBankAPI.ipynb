{
 "cells": [
  {
   "cell_type": "code",
   "execution_count": 1,
   "metadata": {},
   "outputs": [],
   "source": [
    "# Dependencies\n",
    "import requests\n",
    "\n",
    "url = \"http://api.worldbank.org/v2/\"\n",
    "format = \"json\"\n",
    "\n",
    "# Get country information in JSON format\n",
    "countries_response = requests.get(f\"{url}countries?format={format}\").json()\n",
    "\n",
    "# First element is general information, second is countries themselves\n",
    "countries = countries_response[1]"
   ]
  },
  {
   "cell_type": "code",
   "execution_count": 3,
   "metadata": {},
   "outputs": [
    {
     "name": "stdout",
     "output_type": "stream",
     "text": [
      "Aruba 50\n",
      "Afghanistan 50\n",
      "Africa 50\n",
      "Angola 50\n",
      "Albania 50\n",
      "Andorra 50\n",
      "Andean Region 50\n",
      "Arab World 50\n",
      "United Arab Emirates 50\n",
      "Argentina 50\n",
      "Armenia 50\n",
      "American Samoa 50\n",
      "Antigua and Barbuda 50\n",
      "Australia 50\n",
      "Austria 50\n",
      "Azerbaijan 50\n",
      "Burundi 50\n",
      "East Asia & Pacific (IBRD-only countries) 50\n",
      "Europe & Central Asia (IBRD-only countries) 50\n",
      "Belgium 50\n",
      "Benin 50\n",
      "Burkina Faso 50\n",
      "Bangladesh 50\n",
      "Bulgaria 50\n",
      "IBRD countries classified as high income 50\n",
      "Bahrain 50\n",
      "Bahamas, The 50\n",
      "Bosnia and Herzegovina 50\n",
      "Latin America & the Caribbean (IBRD-only countries) 50\n",
      "Belarus 50\n",
      "Belize 50\n",
      "Middle East & North Africa (IBRD-only countries) 50\n",
      "Bermuda 50\n",
      "Bolivia 50\n",
      "Brazil 50\n",
      "Barbados 50\n",
      "Brunei Darussalam 50\n",
      "Sub-Saharan Africa (IBRD-only countries) 50\n",
      "Bhutan 50\n",
      "Botswana 50\n",
      "Sub-Saharan Africa (IFC classification) 50\n",
      "Central African Republic 50\n",
      "Canada 50\n",
      "East Asia and the Pacific (IFC classification) 50\n",
      "Central Europe and the Baltics 50\n",
      "Europe and Central Asia (IFC classification) 50\n",
      "Switzerland 50\n",
      "Channel Islands 50\n",
      "Chile 50\n",
      "China 50\n"
     ]
    }
   ],
   "source": [
    "# Report the names\n",
    "for country in countries:\n",
    "    print(country[\"name\"], len(countries))"
   ]
  },
  {
   "cell_type": "code",
   "execution_count": null,
   "metadata": {},
   "outputs": [],
   "source": []
  },
  {
   "cell_type": "code",
   "execution_count": null,
   "metadata": {},
   "outputs": [],
   "source": []
  }
 ],
 "metadata": {
  "kernelspec": {
   "display_name": "Python 3",
   "language": "python",
   "name": "python3"
  },
  "language_info": {
   "codemirror_mode": {
    "name": "ipython",
    "version": 3
   },
   "file_extension": ".py",
   "mimetype": "text/x-python",
   "name": "python",
   "nbconvert_exporter": "python",
   "pygments_lexer": "ipython3",
   "version": "3.7.3"
  }
 },
 "nbformat": 4,
 "nbformat_minor": 2
}
