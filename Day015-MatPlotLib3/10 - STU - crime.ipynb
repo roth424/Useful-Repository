{
 "cells": [
  {
   "cell_type": "code",
   "execution_count": null,
   "metadata": {},
   "outputs": [],
   "source": [
    "%matplotlib notebook"
   ]
  },
  {
   "cell_type": "code",
   "execution_count": 1,
   "metadata": {},
   "outputs": [],
   "source": [
    "from matplotlib import pyplot as plt\n",
    "from scipy import stats\n",
    "import numpy as np\n",
    "import pandas as pd"
   ]
  },
  {
   "cell_type": "code",
   "execution_count": 2,
   "metadata": {},
   "outputs": [],
   "source": [
    "df = pd.read_csv(\"../Resources/crime_data.csv\")"
   ]
  },
  {
   "cell_type": "code",
   "execution_count": 3,
   "metadata": {},
   "outputs": [],
   "source": [
    "year = df.loc[:, \"year\"]"
   ]
  },
  {
   "cell_type": "code",
   "execution_count": 4,
   "metadata": {},
   "outputs": [],
   "source": [
    "violent_crime_rate = df.loc[:, \"violent crime rate\"]\n",
    "slope, intercept, _,_,_ = stats.linregress(year, violent_crime_rate)\n",
    "vc_fit = slope * year + intercept"
   ]
  },
  {
   "cell_type": "code",
   "execution_count": 5,
   "metadata": {},
   "outputs": [],
   "source": [
    "murder_rate = df.loc[:, \" murder and non-negligent manslaughter rate\"]\n",
    "slope, intercept, _,_,_ = stats.linregress(year, murder_rate)\n",
    "mr_fit = slope * year + intercept"
   ]
  },
  {
   "cell_type": "code",
   "execution_count": 6,
   "metadata": {},
   "outputs": [],
   "source": [
    "aggravated_assault_rate = df.loc[:, \"aggravated assault rate\"]\n",
    "slope, intercept, _,_,_ = stats.linregress(year, aggravated_assault_rate)\n",
    "aa_fit = slope * year + intercept"
   ]
  },
  {
   "cell_type": "code",
   "execution_count": 8,
   "metadata": {},
   "outputs": [
    {
     "data": {
      "image/png": "[encoded data removed]",
      "text/plain": [
       "<Figure size 432x288 with 3 Axes>"
      ]
     },
     "metadata": {
      "needs_background": "light"
     },
     "output_type": "display_data"
    }
   ],
   "source": [
    "fig, (ax, ax2, ax3) = plt.subplots(3, sharex=True)\n",
    "ax.plot(year, violent_crime_rate, linewidth=0, marker='o', color=\"b\")\n",
    "ax.plot(year, vc_fit, 'b--')\n",
    "ax2.plot(year, murder_rate, linewidth=0, marker='o', color=\"g\")\n",
    "ax2.plot(year, mr_fit, 'g--')\n",
    "ax3.plot(year, aggravated_assault_rate, linewidth=0, marker='o', color=\"r\")\n",
    "ax3.plot(year, aa_fit, 'r--')\n",
    "plt.show()"
   ]
  },
  {
   "cell_type": "code",
   "execution_count": 11,
   "metadata": {},
   "outputs": [],
   "source": [
    "yr = 2050\n",
    "aa = slope * yr + intercept"
   ]
  },
  {
   "cell_type": "code",
   "execution_count": 12,
   "metadata": {},
   "outputs": [
    {
     "data": {
      "text/plain": [
       "-132.80030075187824"
      ]
     },
     "execution_count": 12,
     "metadata": {},
     "output_type": "execute_result"
    }
   ],
   "source": [
    "aa"
   ]
  },
  {
   "cell_type": "code",
   "execution_count": null,
   "metadata": {},
   "outputs": [],
   "source": []
  }
 ],
 "metadata": {
  "kernelspec": {
   "display_name": "Python 3",
   "language": "python",
   "name": "python3"
  },
  "language_info": {
   "codemirror_mode": {
    "name": "ipython",
    "version": 3
   },
   "file_extension": ".py",
   "mimetype": "text/x-python",
   "name": "python",
   "nbconvert_exporter": "python",
   "pygments_lexer": "ipython3",
   "version": "3.7.3"
  }
 },
 "nbformat": 4,
 "nbformat_minor": 2
}
