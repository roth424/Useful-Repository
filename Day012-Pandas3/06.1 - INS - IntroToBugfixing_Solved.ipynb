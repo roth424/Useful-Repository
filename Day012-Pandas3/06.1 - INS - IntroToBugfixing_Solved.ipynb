{
 "cells": [
  {
   "cell_type": "code",
   "execution_count": null,
   "metadata": {},
   "outputs": [],
   "source": [
    "# Import dependencies\n",
    "import pandas as pd"
   ]
  },
  {
   "cell_type": "code",
   "execution_count": null,
   "metadata": {
    "scrolled": true
   },
   "outputs": [],
   "source": [
    "# Reference to CSV and reading CSV into Pandas DataFrame\n",
    "csv_path = \"../Resources/flavors_of_cacao.csv\"\n",
    "chocolate_ratings_df = pd.read_csv(csv_path)\n",
    "chocolate_ratings_df.head(10)"
   ]
  },
  {
   "cell_type": "code",
   "execution_count": null,
   "metadata": {},
   "outputs": [],
   "source": [
    "chocolate_ratings_df.columns"
   ]
  },
  {
   "cell_type": "code",
   "execution_count": null,
   "metadata": {
    "scrolled": false
   },
   "outputs": [],
   "source": [
    "# Converting the \"Cocoa Percent\" column to floats\n",
    "chocolate_ratings_df[\"Cocoa Percent\"] = chocolate_ratings_df[\"Cocoa Percent\"].replace(\n",
    "    '%', '', regex=True).astype('float')\n",
    "\n",
    "# Finding the average cocoa percent\n",
    "chocolate_ratings_df[\"Cocoa Percent\"].mean()"
   ]
  }
 ],
 "metadata": {
  "kernelspec": {
   "display_name": "Python 3",
   "language": "python",
   "name": "python3"
  },
  "language_info": {
   "codemirror_mode": {
    "name": "ipython",
    "version": 3
   },
   "file_extension": ".py",
   "mimetype": "text/x-python",
   "name": "python",
   "nbconvert_exporter": "python",
   "pygments_lexer": "ipython3",
   "version": "3.7.3"
  }
 },
 "nbformat": 4,
 "nbformat_minor": 2
}
