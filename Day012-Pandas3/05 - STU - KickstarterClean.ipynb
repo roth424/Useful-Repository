{
 "cells": [
  {
   "cell_type": "code",
   "execution_count": 17,
   "metadata": {},
   "outputs": [],
   "source": [
    "import pandas as pd"
   ]
  },
  {
   "cell_type": "code",
   "execution_count": 18,
   "metadata": {},
   "outputs": [],
   "source": [
    "# The path to our CSV file\n",
    "csvfile = \"../Resources/KickstarterData.csv\"\n",
    "\n",
    "# Read our Kickstarter data into pandas\n",
    "df = pd.read_csv(csvfile)\n",
    "#df.head()"
   ]
  },
  {
   "cell_type": "code",
   "execution_count": 19,
   "metadata": {},
   "outputs": [
    {
     "data": {
      "text/plain": [
       "Index(['id', 'photo', 'name', 'blurb', 'goal', 'pledged', 'state', 'slug',\n",
       "       'disable_communication', 'country', 'currency', 'currency_symbol',\n",
       "       'currency_trailing_code', 'deadline', 'state_changed_at', 'created_at',\n",
       "       'launched_at', 'staff_pick', 'is_starrable', 'backers_count',\n",
       "       'static_usd_rate', 'usd_pledged', 'creator', 'location', 'category',\n",
       "       'profile', 'spotlight', 'urls', 'source_url', 'friends', 'is_starred',\n",
       "       'is_backing', 'permissions'],\n",
       "      dtype='object')"
      ]
     },
     "execution_count": 19,
     "metadata": {},
     "output_type": "execute_result"
    }
   ],
   "source": [
    "# Get a list of all of our columns for easy reference\n",
    "df.columns"
   ]
  },
  {
   "cell_type": "code",
   "execution_count": 21,
   "metadata": {
    "scrolled": true
   },
   "outputs": [
    {
     "data": {
      "text/html": [
       "<div>\n",
       "<style scoped>\n",
       "    .dataframe tbody tr th:only-of-type {\n",
       "        vertical-align: middle;\n",
       "    }\n",
       "\n",
       "    .dataframe tbody tr th {\n",
       "        vertical-align: top;\n",
       "    }\n",
       "\n",
       "    .dataframe thead th {\n",
       "        text-align: right;\n",
       "    }\n",
       "</style>\n",
       "<table border=\"1\" class=\"dataframe\">\n",
       "  <thead>\n",
       "    <tr style=\"text-align: right;\">\n",
       "      <th></th>\n",
       "      <th>name</th>\n",
       "      <th>goal</th>\n",
       "      <th>pledged</th>\n",
       "      <th>state</th>\n",
       "      <th>country</th>\n",
       "      <th>staff_pick</th>\n",
       "      <th>backers_count</th>\n",
       "      <th>spotlight</th>\n",
       "    </tr>\n",
       "  </thead>\n",
       "  <tbody>\n",
       "    <tr>\n",
       "      <th>0</th>\n",
       "      <td>The Class Act Players Theatre Company Presents...</td>\n",
       "      <td>1500.0</td>\n",
       "      <td>2925.0</td>\n",
       "      <td>successful</td>\n",
       "      <td>US</td>\n",
       "      <td>False</td>\n",
       "      <td>17</td>\n",
       "      <td>True</td>\n",
       "    </tr>\n",
       "    <tr>\n",
       "      <th>1</th>\n",
       "      <td>MR INCREDIBLE by Camilla Whitehill - VAULT Fes...</td>\n",
       "      <td>2500.0</td>\n",
       "      <td>2936.0</td>\n",
       "      <td>successful</td>\n",
       "      <td>GB</td>\n",
       "      <td>True</td>\n",
       "      <td>15</td>\n",
       "      <td>True</td>\n",
       "    </tr>\n",
       "    <tr>\n",
       "      <th>2</th>\n",
       "      <td>RUN</td>\n",
       "      <td>1000.0</td>\n",
       "      <td>1200.0</td>\n",
       "      <td>successful</td>\n",
       "      <td>GB</td>\n",
       "      <td>False</td>\n",
       "      <td>30</td>\n",
       "      <td>True</td>\n",
       "    </tr>\n",
       "    <tr>\n",
       "      <th>3</th>\n",
       "      <td>9th International Meeting of Youth Theatre sap...</td>\n",
       "      <td>2000.0</td>\n",
       "      <td>2135.0</td>\n",
       "      <td>successful</td>\n",
       "      <td>IT</td>\n",
       "      <td>False</td>\n",
       "      <td>24</td>\n",
       "      <td>True</td>\n",
       "    </tr>\n",
       "    <tr>\n",
       "      <th>4</th>\n",
       "      <td>Get Conti to the Ed Fringe!</td>\n",
       "      <td>1000.0</td>\n",
       "      <td>1250.0</td>\n",
       "      <td>successful</td>\n",
       "      <td>GB</td>\n",
       "      <td>False</td>\n",
       "      <td>28</td>\n",
       "      <td>True</td>\n",
       "    </tr>\n",
       "  </tbody>\n",
       "</table>\n",
       "</div>"
      ],
      "text/plain": [
       "                                                name    goal  pledged  \\\n",
       "0  The Class Act Players Theatre Company Presents...  1500.0   2925.0   \n",
       "1  MR INCREDIBLE by Camilla Whitehill - VAULT Fes...  2500.0   2936.0   \n",
       "2                                                RUN  1000.0   1200.0   \n",
       "3  9th International Meeting of Youth Theatre sap...  2000.0   2135.0   \n",
       "4                        Get Conti to the Ed Fringe!  1000.0   1250.0   \n",
       "\n",
       "        state country  staff_pick  backers_count  spotlight  \n",
       "0  successful      US       False             17       True  \n",
       "1  successful      GB        True             15       True  \n",
       "2  successful      GB       False             30       True  \n",
       "3  successful      IT       False             24       True  \n",
       "4  successful      GB       False             28       True  "
      ]
     },
     "execution_count": 21,
     "metadata": {},
     "output_type": "execute_result"
    }
   ],
   "source": [
    "# Extract \"name\", \"goal\", \"pledged\", \"state\", \"country\", \"staff_pick\",\n",
    "# \"backers_count\", and \"spotlight\"\n",
    "df2 = df[[\"name\", \"goal\", \"pledged\", \"state\", \"country\", \"staff_pick\",\n",
    " \"backers_count\", \"spotlight\"]]\n",
    "df2.head()"
   ]
  },
  {
   "cell_type": "code",
   "execution_count": 24,
   "metadata": {
    "scrolled": true
   },
   "outputs": [
    {
     "name": "stdout",
     "output_type": "stream",
     "text": [
      "name             4120\n",
      "goal             4120\n",
      "pledged          4120\n",
      "state            4120\n",
      "country          4120\n",
      "staff_pick       4120\n",
      "backers_count    4120\n",
      "spotlight        4120\n",
      "dtype: int64\n",
      "name             1249\n",
      "goal             1249\n",
      "pledged          1249\n",
      "state            1249\n",
      "country          1249\n",
      "staff_pick       1249\n",
      "backers_count    1249\n",
      "spotlight        1249\n",
      "dtype: int64\n"
     ]
    }
   ],
   "source": [
    "# Remove projects that made no money at all\n",
    "print(df2.count())\n",
    "df3 = df2.loc[df2[\"goal\"]<=df2[\"pledged\"],:]\n",
    "print(df3.count())"
   ]
  },
  {
   "cell_type": "code",
   "execution_count": 25,
   "metadata": {
    "scrolled": true
   },
   "outputs": [
    {
     "data": {
      "text/html": [
       "<div>\n",
       "<style scoped>\n",
       "    .dataframe tbody tr th:only-of-type {\n",
       "        vertical-align: middle;\n",
       "    }\n",
       "\n",
       "    .dataframe tbody tr th {\n",
       "        vertical-align: top;\n",
       "    }\n",
       "\n",
       "    .dataframe thead th {\n",
       "        text-align: right;\n",
       "    }\n",
       "</style>\n",
       "<table border=\"1\" class=\"dataframe\">\n",
       "  <thead>\n",
       "    <tr style=\"text-align: right;\">\n",
       "      <th></th>\n",
       "      <th>name</th>\n",
       "      <th>goal</th>\n",
       "      <th>pledged</th>\n",
       "      <th>state</th>\n",
       "      <th>country</th>\n",
       "      <th>backers_count</th>\n",
       "    </tr>\n",
       "  </thead>\n",
       "  <tbody>\n",
       "    <tr>\n",
       "      <th>0</th>\n",
       "      <td>The Class Act Players Theatre Company Presents...</td>\n",
       "      <td>1500.0</td>\n",
       "      <td>2925.0</td>\n",
       "      <td>successful</td>\n",
       "      <td>US</td>\n",
       "      <td>17</td>\n",
       "    </tr>\n",
       "    <tr>\n",
       "      <th>8</th>\n",
       "      <td>Forefront Festival 2015</td>\n",
       "      <td>7200.0</td>\n",
       "      <td>7230.0</td>\n",
       "      <td>successful</td>\n",
       "      <td>US</td>\n",
       "      <td>68</td>\n",
       "    </tr>\n",
       "    <tr>\n",
       "      <th>11</th>\n",
       "      <td>Hamlet the Hip-Hopera</td>\n",
       "      <td>9747.0</td>\n",
       "      <td>10103.0</td>\n",
       "      <td>successful</td>\n",
       "      <td>US</td>\n",
       "      <td>132</td>\n",
       "    </tr>\n",
       "    <tr>\n",
       "      <th>14</th>\n",
       "      <td>Pride Con</td>\n",
       "      <td>15000.0</td>\n",
       "      <td>15110.0</td>\n",
       "      <td>successful</td>\n",
       "      <td>US</td>\n",
       "      <td>60</td>\n",
       "    </tr>\n",
       "    <tr>\n",
       "      <th>15</th>\n",
       "      <td>En Garde Arts Emerging Artists Festival BOSSS</td>\n",
       "      <td>10000.0</td>\n",
       "      <td>10306.0</td>\n",
       "      <td>successful</td>\n",
       "      <td>US</td>\n",
       "      <td>80</td>\n",
       "    </tr>\n",
       "  </tbody>\n",
       "</table>\n",
       "</div>"
      ],
      "text/plain": [
       "                                                 name     goal  pledged  \\\n",
       "0   The Class Act Players Theatre Company Presents...   1500.0   2925.0   \n",
       "8                             Forefront Festival 2015   7200.0   7230.0   \n",
       "11                              Hamlet the Hip-Hopera   9747.0  10103.0   \n",
       "14                                          Pride Con  15000.0  15110.0   \n",
       "15      En Garde Arts Emerging Artists Festival BOSSS  10000.0  10306.0   \n",
       "\n",
       "         state country  backers_count  \n",
       "0   successful      US             17  \n",
       "8   successful      US             68  \n",
       "11  successful      US            132  \n",
       "14  successful      US             60  \n",
       "15  successful      US             80  "
      ]
     },
     "execution_count": 25,
     "metadata": {},
     "output_type": "execute_result"
    }
   ],
   "source": [
    "# Collect only those projects that were hosted in the US\n",
    "# Create a list of the columns\n",
    "cols = [\"name\", \"goal\", \"pledged\", \"state\", \"country\", \"backers_count\"]\n",
    "# Create a new df for \"US\" with the columns above. \n",
    "df4 = df3.loc[df3[\"country\"] == 'US', cols]\n",
    "df4.head()"
   ]
  },
  {
   "cell_type": "code",
   "execution_count": null,
   "metadata": {},
   "outputs": [],
   "source": [
    "# Create a new column that finds the average amount pledged to a project\n"
   ]
  },
  {
   "cell_type": "code",
   "execution_count": null,
   "metadata": {},
   "outputs": [],
   "source": [
    "# First convert \"average_donation\", \"goal\", and \"pledged\" columns to float\n",
    "# Then Format to go to two decimal places, include a dollar sign, and use comma notation"
   ]
  },
  {
   "cell_type": "code",
   "execution_count": null,
   "metadata": {},
   "outputs": [],
   "source": [
    "# Calculate the total number of backers for all US projects"
   ]
  },
  {
   "cell_type": "code",
   "execution_count": null,
   "metadata": {},
   "outputs": [],
   "source": [
    "# Calculate the average number of backers for all US projects"
   ]
  },
  {
   "cell_type": "code",
   "execution_count": null,
   "metadata": {
    "scrolled": true
   },
   "outputs": [],
   "source": [
    "# Collect only those US campaigns that have been picked as a \"Staff Pick\""
   ]
  },
  {
   "cell_type": "code",
   "execution_count": null,
   "metadata": {},
   "outputs": [],
   "source": [
    "# Group by the state of the campaigns and see if staff picks matter (Seems to matter quite a bit)"
   ]
  }
 ],
 "metadata": {
  "kernelspec": {
   "display_name": "Python 3",
   "language": "python",
   "name": "python3"
  },
  "language_info": {
   "codemirror_mode": {
    "name": "ipython",
    "version": 3
   },
   "file_extension": ".py",
   "mimetype": "text/x-python",
   "name": "python",
   "nbconvert_exporter": "python",
   "pygments_lexer": "ipython3",
   "version": "3.7.3"
  }
 },
 "nbformat": 4,
 "nbformat_minor": 2
}
