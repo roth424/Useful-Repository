{
 "cells": [
  {
   "cell_type": "code",
   "execution_count": 1,
   "metadata": {},
   "outputs": [],
   "source": [
    "# Dependencies\n",
    "import requests\n",
    "import json"
   ]
  },
  {
   "cell_type": "code",
   "execution_count": 2,
   "metadata": {},
   "outputs": [],
   "source": [
    "# URL for GET requests to retrieve Star Wars character data\n",
    "base_url = \"https://swapi.co/api/people/\""
   ]
  },
  {
   "cell_type": "code",
   "execution_count": 3,
   "metadata": {},
   "outputs": [
    {
     "name": "stdout",
     "output_type": "stream",
     "text": [
      "https://swapi.co/api/people/4\n"
     ]
    }
   ],
   "source": [
    "# Create a url with a specific character id\n",
    "character_id = '4'\n",
    "url = base_url + character_id\n",
    "print(url)"
   ]
  },
  {
   "cell_type": "code",
   "execution_count": 4,
   "metadata": {},
   "outputs": [
    {
     "name": "stdout",
     "output_type": "stream",
     "text": [
      "https://swapi.co/api/people/4/\n"
     ]
    }
   ],
   "source": [
    "# Perform a get request for this character\n",
    "response = requests.get(url)\n",
    "print(response.url)"
   ]
  },
  {
   "cell_type": "code",
   "execution_count": 6,
   "metadata": {},
   "outputs": [
    {
     "name": "stdout",
     "output_type": "stream",
     "text": [
      "{\n",
      "    \"name\": \"Darth Vader\",\n",
      "    \"height\": \"202\",\n",
      "    \"mass\": \"136\",\n",
      "    \"hair_color\": \"none\",\n",
      "    \"skin_color\": \"white\",\n",
      "    \"eye_color\": \"yellow\",\n",
      "    \"birth_year\": \"41.9BBY\",\n",
      "    \"gender\": \"male\",\n",
      "    \"homeworld\": \"https://swapi.co/api/planets/1/\",\n",
      "    \"films\": [\n",
      "        \"https://swapi.co/api/films/2/\",\n",
      "        \"https://swapi.co/api/films/6/\",\n",
      "        \"https://swapi.co/api/films/3/\",\n",
      "        \"https://swapi.co/api/films/1/\"\n",
      "    ],\n",
      "    \"species\": [\n",
      "        \"https://swapi.co/api/species/1/\"\n",
      "    ],\n",
      "    \"vehicles\": [],\n",
      "    \"starships\": [\n",
      "        \"https://swapi.co/api/starships/13/\"\n",
      "    ],\n",
      "    \"created\": \"2014-12-10T15:18:20.704000Z\",\n",
      "    \"edited\": \"2014-12-20T21:17:50.313000Z\",\n",
      "    \"url\": \"https://swapi.co/api/people/4/\"\n",
      "}\n"
     ]
    }
   ],
   "source": [
    "# Storing the JSON response within a variable\n",
    "data = response.json()\n",
    "print(json.dumps(data, indent=4))"
   ]
  },
  {
   "cell_type": "code",
   "execution_count": 9,
   "metadata": {},
   "outputs": [
    {
     "data": {
      "text/plain": [
       "'Darth Vader'"
      ]
     },
     "execution_count": 9,
     "metadata": {},
     "output_type": "execute_result"
    }
   ],
   "source": [
    "# Collecting the name of the character collected\n",
    "# YOUR CODE HERE\n",
    "name = data[\"name\"]\n",
    "name"
   ]
  },
  {
   "cell_type": "code",
   "execution_count": 11,
   "metadata": {},
   "outputs": [
    {
     "data": {
      "text/plain": [
       "4"
      ]
     },
     "execution_count": 11,
     "metadata": {},
     "output_type": "execute_result"
    }
   ],
   "source": [
    "# Print the character and the number of films that they were in\n",
    "# YOUR CODE HERE\n",
    "films = len(data[\"films\"])\n",
    "films"
   ]
  },
  {
   "cell_type": "code",
   "execution_count": 15,
   "metadata": {},
   "outputs": [
    {
     "name": "stdout",
     "output_type": "stream",
     "text": [
      "TIE Advanced x1\n"
     ]
    }
   ],
   "source": [
    "# Figure out what their first starship was and print the ship\n",
    "# YOUR CODE HERE\n",
    "ship = data[\"starships\"][0]\n",
    "ship\n",
    "data2 = requests.get(ship).json()\n",
    "print(data2[\"name\"])"
   ]
  },
  {
   "cell_type": "code",
   "execution_count": null,
   "metadata": {
    "collapsed": true
   },
   "outputs": [],
   "source": [
    "# Print character name and how many films they were in\n",
    "# YOUR CODE HERE"
   ]
  },
  {
   "cell_type": "code",
   "execution_count": null,
   "metadata": {
    "collapsed": true
   },
   "outputs": [],
   "source": [
    "# Print what their first ship was\n",
    "# YOUR CODE HERE"
   ]
  }
 ],
 "metadata": {
  "kernelspec": {
   "display_name": "Python 3",
   "language": "python",
   "name": "python3"
  },
  "language_info": {
   "codemirror_mode": {
    "name": "ipython",
    "version": 3
   },
   "file_extension": ".py",
   "mimetype": "text/x-python",
   "name": "python",
   "nbconvert_exporter": "python",
   "pygments_lexer": "ipython3",
   "version": "3.7.3"
  },
  "varInspector": {
   "cols": {
    "lenName": 16,
    "lenType": 16,
    "lenVar": 40
   },
   "kernels_config": {
    "python": {
     "delete_cmd_postfix": "",
     "delete_cmd_prefix": "del ",
     "library": "var_list.py",
     "varRefreshCmd": "print(var_dic_list())"
    },
    "r": {
     "delete_cmd_postfix": ") ",
     "delete_cmd_prefix": "rm(",
     "library": "var_list.r",
     "varRefreshCmd": "cat(var_dic_list()) "
    }
   },
   "types_to_exclude": [
    "module",
    "function",
    "builtin_function_or_method",
    "instance",
    "_Feature"
   ],
   "window_display": false
  }
 },
 "nbformat": 4,
 "nbformat_minor": 2
}
