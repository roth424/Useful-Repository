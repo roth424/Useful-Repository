{
 "cells": [
  {
   "cell_type": "code",
   "execution_count": 25,
   "metadata": {},
   "outputs": [
    {
     "name": "stdout",
     "output_type": "stream",
     "text": [
      "https://api.nytimes.com/svc/search/v2/articlesearch.json?q=obama&begin_date=20160101&end_date=20160130&api-key=zPz9YTRwvv7KYMLQUXKsgNX2iGciSCAd\n"
     ]
    }
   ],
   "source": [
    "# Dependencies\n",
    "import requests\n",
    "from config import nyt_api_key\n",
    "import time\n",
    "\n",
    "url = \"https://api.nytimes.com/svc/search/v2/articlesearch.json?\"\n",
    "# url = \"https://api.nytimes.com/svc/search/v2/articlesearch.json?q=election&api-key=\"\n",
    "\n",
    "# Store a search term\n",
    "query = \"obama\"\n",
    "\n",
    "# Search for articles published between a begin and end date\n",
    "begin_date = \"20160101\"\n",
    "end_date = \"20160130\"\n",
    "\n",
    "query_url = f\"{url}q={query}&begin_date={begin_date}&end_date={end_date}&api-key={nyt_api_key}\"\n",
    "print(query_url)"
   ]
  },
  {
   "cell_type": "code",
   "execution_count": 26,
   "metadata": {},
   "outputs": [
    {
     "name": "stdout",
     "output_type": "stream",
     "text": [
      "A snippet from the article: I will not campaign for, vote for or support any candidate, even in my own party, who does not support common-sense gun reform.\n",
      "A snippet from the article: In presidential elections, opposites attract.\n",
      "A snippet from the article: Todos –gobierno, sector privado y los ciudadanos– debemos hacer un frente común para acabar con esta violencia sin sentido.\n",
      "A snippet from the article: Dire warnings from Republicans about the effect of President Obama’s policies on employment have simply not come true.\n",
      "A snippet from the article: Highlights from President Obama’s remarks at a town-hall style meeting in Baton Rouge, La, on Thursday.\n",
      "A snippet from the article: “Let me tell you, there are three things that are certain in life: death, taxes, and Michelle is not running for president.” — President Obama\n",
      "A snippet from the article: For many young people, the first president they consciously registered was a black man.\n",
      "A snippet from the article: Readers mostly praise the president’s speech as hopeful and inclusive.\n",
      "A snippet from the article: Readers discuss the Supreme Court’s decision to hear a case challenging the president’s executive actions.\n",
      "A snippet from the article: President Obama, speaking at the North American International Auto Show in Detroit, expressed sympathy and concern for residents of Flint, Mich., where there has been lead contamination in the drinking water.\n"
     ]
    }
   ],
   "source": [
    "# Retrieve articles\n",
    "articles = requests.get(query_url).json()\n",
    "articles_list = [article for article in articles[\"response\"][\"docs\"]]\n",
    "\n",
    "for article in articles_list:\n",
    "    print(f'A snippet from the article: {article[\"snippet\"]}')"
   ]
  },
  {
   "cell_type": "code",
   "execution_count": 27,
   "metadata": {},
   "outputs": [
    {
     "name": "stdout",
     "output_type": "stream",
     "text": [
      "https://api.nytimes.com/svc/search/v2/articlesearch.json?q=obama&begin_date=20160101&end_date=20160130&page=0&api-key=zPz9YTRwvv7KYMLQUXKsgNX2iGciSCAd\n",
      "https://api.nytimes.com/svc/search/v2/articlesearch.json?q=obama&begin_date=20160101&end_date=20160130&page=1&api-key=zPz9YTRwvv7KYMLQUXKsgNX2iGciSCAd\n",
      "https://api.nytimes.com/svc/search/v2/articlesearch.json?q=obama&begin_date=20160101&end_date=20160130&page=2&api-key=zPz9YTRwvv7KYMLQUXKsgNX2iGciSCAd\n"
     ]
    }
   ],
   "source": [
    "# BONUS: How would we get 30 results? \n",
    "# HINT: Look up the page query param\n",
    "\n",
    "# Emply list for articles\n",
    "articles_list = []\n",
    "\n",
    "# loop through pages 0-2\n",
    "for page in range(0, 3):\n",
    "    query_url = f\"{url}q={query}&begin_date={begin_date}&end_date={end_date}\"\n",
    "    # create query with page number\n",
    "    query_url = f\"{query_url}&page={str(page)}\"\n",
    "    query_url += f\"&api-key={nyt_api_key}\"\n",
    "    print(query_url)\n",
    "    articles = requests.get(query_url).json()\n",
    "    \n",
    "    # Add a one second interval between queries to stay within API query limits\n",
    "    time.sleep(1)\n",
    "    # loop through the response and append each article to the list\n",
    "    for article in articles[\"response\"][\"docs\"]:\n",
    "        articles_list.append(article)"
   ]
  },
  {
   "cell_type": "code",
   "execution_count": 31,
   "metadata": {},
   "outputs": [
    {
     "name": "stdout",
     "output_type": "stream",
     "text": [
      "Barack Obama: Guns Are Our Shared Responsibility\n",
      "The Obama Theory of Trump\n",
      "Barack Obama: Las armas de fuego son responsabilidad de todos\n",
      "The Obama Boom\n",
      "Obama On the Road\n",
      "Verbatim: Barack Obama on Michelle Obama’s Presidential Ambitions\n",
      "The Other Obama Legacy\n",
      "Obama’s Final State of the Union Speech\n",
      "Did Obama Overstep His Authority on Immigration?\n",
      "Obama on Flint Water Crisis\n",
      "Obama Celebrates Deal With Iran\n",
      "Obama Goes Live on Facebook\n",
      "Mr. Obama’s Pardon Problem\n",
      "Obama Takes First Step in a Cancer ‘Moonshot’\n",
      "The Obamas Return From Vacation\n",
      "Obama’s Budget Urges a Deeper Commitment to Computer Education\n",
      "Obama Bans Solitary Confinement of Juveniles in Federal Prisons\n",
      "President Obama’s Last State of the Union\n",
      "President Obama to Focus on American Potential in 2016\n",
      "Giving Obama His Due\n",
      "Obama Meets With the Emir of Qatar\n",
      "In Conservative Louisiana, Obama Finds Little but Love\n",
      "Obama on Economy\n",
      "My Take on Obama’s State of the Union Address\n",
      "Obama’s Plea to Reduce Gun Violence\n",
      "Obama on Terrorism\n",
      "Obama on Innovation\n",
      "Obama Shifts Online Strategy on ISIS\n",
      "Obama Confronts Americans’ Fears in State of the Union Speech\n",
      "Obama, in Nebraska and Louisiana, Aims to Kick Off Discussions on Future\n"
     ]
    }
   ],
   "source": [
    "for article in articles_list:\n",
    "    print(article[\"headline\"][\"main\"])"
   ]
  },
  {
   "cell_type": "code",
   "execution_count": null,
   "metadata": {},
   "outputs": [],
   "source": []
  }
 ],
 "metadata": {
  "kernelspec": {
   "display_name": "Python 3",
   "language": "python",
   "name": "python3"
  },
  "language_info": {
   "codemirror_mode": {
    "name": "ipython",
    "version": 3
   },
   "file_extension": ".py",
   "mimetype": "text/x-python",
   "name": "python",
   "nbconvert_exporter": "python",
   "pygments_lexer": "ipython3",
   "version": "3.7.3"
  },
  "varInspector": {
   "cols": {
    "lenName": 16,
    "lenType": 16,
    "lenVar": 40
   },
   "kernels_config": {
    "python": {
     "delete_cmd_postfix": "",
     "delete_cmd_prefix": "del ",
     "library": "var_list.py",
     "varRefreshCmd": "print(var_dic_list())"
    },
    "r": {
     "delete_cmd_postfix": ") ",
     "delete_cmd_prefix": "rm(",
     "library": "var_list.r",
     "varRefreshCmd": "cat(var_dic_list()) "
    }
   },
   "types_to_exclude": [
    "module",
    "function",
    "builtin_function_or_method",
    "instance",
    "_Feature"
   ],
   "window_display": false
  }
 },
 "nbformat": 4,
 "nbformat_minor": 2
}
