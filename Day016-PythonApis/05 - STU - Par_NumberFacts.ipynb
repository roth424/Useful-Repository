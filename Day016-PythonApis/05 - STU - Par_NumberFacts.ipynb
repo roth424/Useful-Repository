{
 "cells": [
  {
   "cell_type": "code",
   "execution_count": 4,
   "metadata": {},
   "outputs": [],
   "source": [
    "# Dependencies\n",
    "import requests\n",
    "import json"
   ]
  },
  {
   "cell_type": "code",
   "execution_count": 5,
   "metadata": {},
   "outputs": [
    {
     "name": "stdout",
     "output_type": "stream",
     "text": [
      "Select a type of fact:  Trivia, Math, Year or Date? Date\n"
     ]
    }
   ],
   "source": [
    "# Base URL for GET requests to retrieve number/date facts\n",
    "type = input(\"Select a type of fact:  Trivia, Math, Year or Date? \")"
   ]
  },
  {
   "cell_type": "code",
   "execution_count": 7,
   "metadata": {},
   "outputs": [
    {
     "name": "stdout",
     "output_type": "stream",
     "text": [
      "Enter a Month: 4\n",
      "Enter a Day: 12\n",
      "http://numbersapi.com/4/12/date?json\n"
     ]
    }
   ],
   "source": [
    "baseurl = \"http://numbersapi.com/\"\n",
    "\n",
    "if type.lower() == \"year\":\n",
    "    year = input(\"Enter a Year: \")\n",
    "    url = baseurl + year + \"/year?json\"\n",
    "elif type.lower() == \"date\":\n",
    "    month = input(\"Enter a Month: \")\n",
    "    day = input(\"Enter a Day: \")\n",
    "    url = baseurl + month + \"/\" + day + \"/date?json\"\n",
    "elif type.lower() == \"math\":\n",
    "    number = input(\"Enter a Number: \")\n",
    "    url = baseurl + number + \"/math?json\"\n",
    "else:\n",
    "    number = input(\"Enter a Number: \")\n",
    "    url = baseurl + number + \"?json\"\n",
    "print(url)"
   ]
  },
  {
   "cell_type": "code",
   "execution_count": 8,
   "metadata": {},
   "outputs": [
    {
     "name": "stdout",
     "output_type": "stream",
     "text": [
      "April 12th is the day in 1937 that Sir Frank Whittle ground-tests the first jet engine designed to power an aircraft, at Rugby, England.\n"
     ]
    }
   ],
   "source": [
    "# Create code to return a number fact\n",
    "response = requests.get(url).json()\n",
    "fact = response[\"text\"]\n",
    "print(fact)"
   ]
  },
  {
   "cell_type": "code",
   "execution_count": null,
   "metadata": {},
   "outputs": [],
   "source": []
  }
 ],
 "metadata": {
  "kernelspec": {
   "display_name": "Python 3",
   "language": "python",
   "name": "python3"
  },
  "language_info": {
   "codemirror_mode": {
    "name": "ipython",
    "version": 3
   },
   "file_extension": ".py",
   "mimetype": "text/x-python",
   "name": "python",
   "nbconvert_exporter": "python",
   "pygments_lexer": "ipython3",
   "version": "3.7.3"
  },
  "varInspector": {
   "cols": {
    "lenName": 16,
    "lenType": 16,
    "lenVar": 40
   },
   "kernels_config": {
    "python": {
     "delete_cmd_postfix": "",
     "delete_cmd_prefix": "del ",
     "library": "var_list.py",
     "varRefreshCmd": "print(var_dic_list())"
    },
    "r": {
     "delete_cmd_postfix": ") ",
     "delete_cmd_prefix": "rm(",
     "library": "var_list.r",
     "varRefreshCmd": "cat(var_dic_list()) "
    }
   },
   "types_to_exclude": [
    "module",
    "function",
    "builtin_function_or_method",
    "instance",
    "_Feature"
   ],
   "window_display": false
  }
 },
 "nbformat": 4,
 "nbformat_minor": 2
}
