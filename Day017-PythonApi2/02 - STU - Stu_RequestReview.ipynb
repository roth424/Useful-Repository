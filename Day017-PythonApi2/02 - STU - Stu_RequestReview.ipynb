{
 "cells": [
  {
   "cell_type": "code",
   "execution_count": 8,
   "metadata": {},
   "outputs": [],
   "source": [
    "# Dependencies\n",
    "import json\n",
    "import requests \n",
    "from pprint import pprint"
   ]
  },
  {
   "cell_type": "code",
   "execution_count": 9,
   "metadata": {},
   "outputs": [],
   "source": [
    "# Specify the URL\n",
    "url = \"http://nyt-mongo-scraper.herokuapp.com/api/headlines\"\n",
    "# Make request and store response\n",
    "response = requests.get(url)"
   ]
  },
  {
   "cell_type": "code",
   "execution_count": 10,
   "metadata": {},
   "outputs": [
    {
     "name": "stdout",
     "output_type": "stream",
     "text": [
      "[{'__v': 0,\n",
      "  '_id': '5d1bef8f1f033d0015905dae',\n",
      "  'date': '2019-07-02T23:58:07.731Z',\n",
      "  'headline': 'At Lokanta, Sheep’s Head Soup and Other Turkish Delights',\n",
      "  'saved': False,\n",
      "  'summary': 'The celebrated (and talkative) chef Orhan Yegen brings his '\n",
      "             'repertoire of subtle braises, soups, and stews from Turkey to '\n",
      "             'Astoria, Queens.',\n",
      "  'url': 'https://www.nytimes.com/2019/07/02/dining/lokanta-review-turkish-food.html'},\n",
      " {'__v': 0,\n",
      "  '_id': '5d1bef8f1f033d0015905dad',\n",
      "  'date': '2019-07-02T23:58:07.731Z',\n",
      "  'headline': 'Oh, to Be Ivanka!',\n",
      "  'saved': False,\n",
      "  'summary': 'So many hot spots, so little time.',\n",
      "  'url': 'https://www.nytimes.com/2019/07/02/opinion/ivanka-jared-trump-nepotism.html'},\n",
      " {'__v': 0,\n",
      "  '_id': '5d1bef8f1f033d0015905daf',\n",
      "  'date': '2019-07-02T23:58:07.731Z',\n",
      "  'headline': 'A Memoir of a Father’s Radical Beliefs and Love for America',\n",
      "  'saved': False,\n",
      "  'summary': '“A Good American Family,” by David Maraniss, examines the '\n",
      "             'paranoia and brutality of the McCarthy era through the lens of '\n",
      "             'his father’s experience.',\n",
      "  'url': 'https://www.nytimes.com/2019/06/28/books/review/a-good-american-family-david-maraniss.html'},\n",
      " {'__v': 0,\n",
      "  '_id': '5d1bef8f1f033d0015905dac',\n",
      "  'date': '2019-07-02T23:58:07.730Z',\n",
      "  'headline': 'Citizenship Question Won’t Be on 2020 Census Forms as U.S. '\n",
      "              'Drops FightHouse Files Lawsuit Seeking Disclosure of Trump Tax '\n",
      "              'ReturnsPresident Trump and the Republican National Committee '\n",
      "              'said they raised $105 million in the second quarter of 2019.',\n",
      "  'saved': False,\n",
      "  'summary': 'Lawmakers are escalating a fight by moving the dispute into the '\n",
      "             'federal courts, which will probably determine whether the '\n",
      "             'president’s tax returns will be seen by Congress and ultimately '\n",
      "             'the public.',\n",
      "  'url': 'https://www.nytimes.com/2019/07/02/us/trump-census-citizenship-question.html'}]\n"
     ]
    }
   ],
   "source": [
    "# JSON-ify response\n",
    "js = response.json()\n",
    "pprint(js)"
   ]
  },
  {
   "cell_type": "code",
   "execution_count": 11,
   "metadata": {
    "scrolled": false
   },
   "outputs": [
    {
     "name": "stdout",
     "output_type": "stream",
     "text": [
      "{'__v': 0,\n",
      " '_id': '5d1bef8f1f033d0015905dae',\n",
      " 'date': '2019-07-02T23:58:07.731Z',\n",
      " 'headline': 'At Lokanta, Sheep’s Head Soup and Other Turkish Delights',\n",
      " 'saved': False,\n",
      " 'summary': 'The celebrated (and talkative) chef Orhan Yegen brings his '\n",
      "            'repertoire of subtle braises, soups, and stews from Turkey to '\n",
      "            'Astoria, Queens.',\n",
      " 'url': 'https://www.nytimes.com/2019/07/02/dining/lokanta-review-turkish-food.html'}\n",
      "{'__v': 0,\n",
      " '_id': '5d1bef8f1f033d0015905dac',\n",
      " 'date': '2019-07-02T23:58:07.730Z',\n",
      " 'headline': 'Citizenship Question Won’t Be on 2020 Census Forms as U.S. Drops '\n",
      "             'FightHouse Files Lawsuit Seeking Disclosure of Trump Tax '\n",
      "             'ReturnsPresident Trump and the Republican National Committee '\n",
      "             'said they raised $105 million in the second quarter of 2019.',\n",
      " 'saved': False,\n",
      " 'summary': 'Lawmakers are escalating a fight by moving the dispute into the '\n",
      "            'federal courts, which will probably determine whether the '\n",
      "            'president’s tax returns will be seen by Congress and ultimately '\n",
      "            'the public.',\n",
      " 'url': 'https://www.nytimes.com/2019/07/02/us/trump-census-citizenship-question.html'}\n"
     ]
    }
   ],
   "source": [
    "# Print first and last articles\n",
    "pprint(js[0])\n",
    "pprint(js[-1])"
   ]
  },
  {
   "cell_type": "code",
   "execution_count": 12,
   "metadata": {},
   "outputs": [
    {
     "name": "stdout",
     "output_type": "stream",
     "text": [
      "4\n"
     ]
    }
   ],
   "source": [
    "#Print the number of responses received.\n",
    "print(len(js))"
   ]
  },
  {
   "cell_type": "code",
   "execution_count": null,
   "metadata": {},
   "outputs": [],
   "source": []
  }
 ],
 "metadata": {
  "kernelspec": {
   "display_name": "Python 3",
   "language": "python",
   "name": "python3"
  },
  "language_info": {
   "codemirror_mode": {
    "name": "ipython",
    "version": 3
   },
   "file_extension": ".py",
   "mimetype": "text/x-python",
   "name": "python",
   "nbconvert_exporter": "python",
   "pygments_lexer": "ipython3",
   "version": "3.7.3"
  },
  "varInspector": {
   "cols": {
    "lenName": 16,
    "lenType": 16,
    "lenVar": 40
   },
   "kernels_config": {
    "python": {
     "delete_cmd_postfix": "",
     "delete_cmd_prefix": "del ",
     "library": "var_list.py",
     "varRefreshCmd": "print(var_dic_list())"
    },
    "r": {
     "delete_cmd_postfix": ") ",
     "delete_cmd_prefix": "rm(",
     "library": "var_list.r",
     "varRefreshCmd": "cat(var_dic_list()) "
    }
   },
   "types_to_exclude": [
    "module",
    "function",
    "builtin_function_or_method",
    "instance",
    "_Feature"
   ],
   "window_display": false
  }
 },
 "nbformat": 4,
 "nbformat_minor": 2
}
