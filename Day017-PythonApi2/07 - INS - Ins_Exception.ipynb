{
 "cells": [
  {
   "cell_type": "code",
   "execution_count": 17,
   "metadata": {},
   "outputs": [
    {
     "name": "stdout",
     "output_type": "stream",
     "text": [
      "19\n",
      "Something bad happened: (<class 'TypeError'>, TypeError(\"unsupported operand type(s) for /: 'int' and 'str'\"), <traceback object at 0x000002525748D188>)\n",
      "This line will print.\n"
     ]
    }
   ],
   "source": [
    "import sys\n",
    "\n",
    "students = {\n",
    "    # Name  : Age\n",
    "    \"James\": 27,\n",
    "    \"Sarah\": 19,\n",
    "    \"Jocelyn\": 28\n",
    "}\n",
    "try:\n",
    "    print(students[\"Sarah\"])\n",
    "    print(10 / \"pig\")\n",
    "    \n",
    "except KeyError:\n",
    "    print(\"That student doesn't exist.\")\n",
    "except ZeroDivisionError:\n",
    "    print(\"Don't do silly math!\")\n",
    "except:\n",
    "    print(f\"Something bad happened: {sys.exc_info()}\")\n",
    "\n",
    "print(\"This line will print.\")"
   ]
  },
  {
   "cell_type": "code",
   "execution_count": null,
   "metadata": {},
   "outputs": [],
   "source": []
  }
 ],
 "metadata": {
  "kernelspec": {
   "display_name": "Python 3",
   "language": "python",
   "name": "python3"
  },
  "language_info": {
   "codemirror_mode": {
    "name": "ipython",
    "version": 3
   },
   "file_extension": ".py",
   "mimetype": "text/x-python",
   "name": "python",
   "nbconvert_exporter": "python",
   "pygments_lexer": "ipython3",
   "version": "3.7.3"
  }
 },
 "nbformat": 4,
 "nbformat_minor": 2
}
