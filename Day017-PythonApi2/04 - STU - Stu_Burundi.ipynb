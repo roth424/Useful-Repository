{
 "cells": [
  {
   "cell_type": "code",
   "execution_count": 10,
   "metadata": {},
   "outputs": [],
   "source": [
    "# Dependencies\n",
    "import requests\n",
    "from config import weather_key\n",
    "from pprint import pprint"
   ]
  },
  {
   "cell_type": "code",
   "execution_count": 16,
   "metadata": {},
   "outputs": [
    {
     "name": "stdout",
     "output_type": "stream",
     "text": [
      "http://api.openweathermap.org/data/2.5/weather?AppId=aca59d3a1814cab4d29c2b6ca6c4c22c&units=metric&q=Nashville,US\n"
     ]
    }
   ],
   "source": [
    "# Build query URL and request your results in Celsius\n",
    "url = \"http://api.openweathermap.org/data/2.5/weather?\"\n",
    "# Get weather data\n",
    "units = \"units=metric\"\n",
    "city = \"Nashville,US\"\n",
    "url = url + \"AppId=\" + weather_key + \"&\" + units + \"&q=\" + city\n",
    "print(url)"
   ]
  },
  {
   "cell_type": "code",
   "execution_count": 17,
   "metadata": {},
   "outputs": [
    {
     "name": "stdout",
     "output_type": "stream",
     "text": [
      "{'base': 'stations',\n",
      " 'clouds': {'all': 20},\n",
      " 'cod': 200,\n",
      " 'coord': {'lat': 36.16, 'lon': -86.77},\n",
      " 'dt': 1562113310,\n",
      " 'id': 4644585,\n",
      " 'main': {'humidity': 58,\n",
      "          'pressure': 1013,\n",
      "          'temp': 30.08,\n",
      "          'temp_max': 32.22,\n",
      "          'temp_min': 27.78},\n",
      " 'name': 'Nashville',\n",
      " 'sys': {'country': 'US',\n",
      "         'id': 3477,\n",
      "         'message': 0.0084,\n",
      "         'sunrise': 1562063627,\n",
      "         'sunset': 1562116086,\n",
      "         'type': 1},\n",
      " 'timezone': -18000,\n",
      " 'visibility': 16093,\n",
      " 'weather': [{'description': 'haze', 'icon': '50n', 'id': 721, 'main': 'Haze'}],\n",
      " 'wind': {'deg': 120, 'speed': 2.6}}\n"
     ]
    }
   ],
   "source": [
    "# Get temperature from JSON response\n",
    "js = requests.get(url).json()\n",
    "pprint(js)"
   ]
  },
  {
   "cell_type": "code",
   "execution_count": 12,
   "metadata": {},
   "outputs": [
    {
     "name": "stdout",
     "output_type": "stream",
     "text": [
      "24.51°C\n"
     ]
    }
   ],
   "source": [
    "# Report temperature\n",
    "print(str(js[\"main\"][\"temp\"]) + \"°C\")"
   ]
  },
  {
   "cell_type": "code",
   "execution_count": 18,
   "metadata": {},
   "outputs": [
    {
     "name": "stdout",
     "output_type": "stream",
     "text": [
      "86.14°F\n"
     ]
    }
   ],
   "source": [
    "url = \"http://api.openweathermap.org/data/2.5/weather?\"\n",
    "# Get weather data\n",
    "units = \"units=imperial\"\n",
    "city = \"Nashville,US\"\n",
    "url = url + \"AppId=\" + weather_key + \"&\" + units + \"&q=\" + city\n",
    "temp = str(requests.get(url).json()[\"main\"][\"temp\"]) + \"°F\"\n",
    "print(temp)"
   ]
  },
  {
   "cell_type": "code",
   "execution_count": null,
   "metadata": {},
   "outputs": [],
   "source": []
  }
 ],
 "metadata": {
  "kernelspec": {
   "display_name": "Python 3",
   "language": "python",
   "name": "python3"
  },
  "language_info": {
   "codemirror_mode": {
    "name": "ipython",
    "version": 3
   },
   "file_extension": ".py",
   "mimetype": "text/x-python",
   "name": "python",
   "nbconvert_exporter": "python",
   "pygments_lexer": "ipython3",
   "version": "3.7.3"
  },
  "varInspector": {
   "cols": {
    "lenName": 16,
    "lenType": 16,
    "lenVar": 40
   },
   "kernels_config": {
    "python": {
     "delete_cmd_postfix": "",
     "delete_cmd_prefix": "del ",
     "library": "var_list.py",
     "varRefreshCmd": "print(var_dic_list())"
    },
    "r": {
     "delete_cmd_postfix": ") ",
     "delete_cmd_prefix": "rm(",
     "library": "var_list.r",
     "varRefreshCmd": "cat(var_dic_list()) "
    }
   },
   "types_to_exclude": [
    "module",
    "function",
    "builtin_function_or_method",
    "instance",
    "_Feature"
   ],
   "window_display": false
  }
 },
 "nbformat": 4,
 "nbformat_minor": 2
}
